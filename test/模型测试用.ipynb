{
 "cells": [
  {
   "cell_type": "code",
   "execution_count": null,
   "metadata": {
    "collapsed": true
   },
   "outputs": [],
   "source": [
    "#引入需要的包\n",
    "import cv2\n",
    "import numpy as np\n",
    "import matplotlib.pyplot as plt\n",
    "import matplotlib.image as mpimg\n",
    "from time import time\n",
    "from __future__ import division\n",
    "\n",
    "%matplotlib inline"
   ]
  },
  {
   "cell_type": "code",
   "execution_count": null,
   "metadata": {
    "collapsed": true
   },
   "outputs": [],
   "source": [
    "#定义单张图片dct特征的提取方法\n",
    "def dct(img):\n",
    "    h,w,_ = img.shape\n",
    "    assert h >= 8 and w >= 8,'请使用大小至少为8x8的图片'\n",
    "    img = np.float64(img)/255.0\n",
    "    out = np.zeros((1,3,8,8),dtype=np.float64)\n",
    "    N = (h // 2 - 3) * (w // 2 - 3)\n",
    "    for i in xrange(h // 2 - 3):\n",
    "        for j in xrange(w // 2 - 3):\n",
    "            r = img[2*i:2*i+8,2*j:2*j+8,0]\n",
    "            g = img[2*i:2*i+8,2*j:2*j+8,1]\n",
    "            b = img[2*i:2*i+8,2*j:2*j+8,2]\n",
    "            r_ = cv2.dct(r).reshape(1,1,8,8)\n",
    "            g_ = cv2.dct(g).reshape(1,1,8,8)\n",
    "            b_ = cv2.dct(b).reshape(1,1,8,8)\n",
    "            temp = np.concatenate((r_,g_,b_),axis = 1)\n",
    "            out = np.concatenate((out,temp),axis=0)\n",
    "    out = out[1:]\n",
    "    return out,N\n",
    "\n",
    "#特征降维（从192降至63）\n",
    "def down_size(img,N):\n",
    "    out = img.reshape(N,3,-1)[:,:,[0,1,2,3,4,5,8,9,10,11,12,16,17,18,19,24,25,26,32,33,40]].reshape(N,-1)\n",
    "    return out"
   ]
  },
  {
   "cell_type": "code",
   "execution_count": null,
   "metadata": {
    "collapsed": true
   },
   "outputs": [],
   "source": [
    "#定义测试图片的方法\n",
    "def gaussion_prob(data_U,U,E,th=5e-4):\n",
    "    N,dim = data_U.shape\n",
    "    m = U.shape[0]\n",
    "    E_d = np.eye(dim)*th\n",
    "    prob = np.zeros((m,N))\n",
    "    inv_Es = np.zeros((m,dim,dim))\n",
    "    \n",
    "    for i in range(m):\n",
    "        det_E = np.linalg.det(E[i]+E_d)\n",
    "        inv_E = np.linalg.inv(E[i]+E_d)\n",
    "        inv_Es[i] = inv_E\n",
    "        xishu = 1 / (det_E ** 0.5 * (2.0 * np.pi) ** (dim/2))\n",
    "        X_U = data_U - U[i]\n",
    "        zhishu = np.sum(np.dot(X_U,inv_E) * X_U,axis=1) * (-0.5)\n",
    "        prob[i] = xishu * np.exp(zhishu)\n",
    "        \n",
    "    return prob,inv_Es\n",
    "\n",
    "def gmm_prob(x,U,E,A):\n",
    "    prob,_ = gaussion_prob(x,U,E)\n",
    "    prob *= A[:,np.newaxis]\n",
    "    prob = np.sum(prob,axis=0)\n",
    "    return prob\n",
    "    \n",
    "def test(img,mods):\n",
    "    img_dct,N = dct(img)\n",
    "    img_down = down_size(img_dct,N)\n",
    "    Us,Es,As = mods['U'],mods['E'],mods['A']\n",
    "    num = Us.shape[0]\n",
    "    model_probs = np.zeros(num)\n",
    "    for i in range(num):\n",
    "        model_probs[i] = np.sum(np.log(gmm_prob(img_down,Us[i],Es[i],As[i])))\n",
    "    model_probs += np.log(label_times)#4500没必要除\n",
    "    img_labels = np.argsort(model_probs)[::-1]\n",
    "    #print model_probs\n",
    "    return img_labels"
   ]
  },
  {
   "cell_type": "code",
   "execution_count": null,
   "metadata": {
    "collapsed": false
   },
   "outputs": [],
   "source": [
    "#读取模型\n",
    "models = np.load('models.npz')\n",
    "\n",
    "#读取每种标签在训练集中出现的次数\n",
    "label_times = np.load('label_times.npy')\n",
    "\n",
    "#读取标签对应的文本，显示前五个\n",
    "label_word = np.loadtxt('new_word.txt',dtype=np.str)\n",
    "print label_word.shape\n",
    "print label_word[:5]"
   ]
  },
  {
   "cell_type": "code",
   "execution_count": null,
   "metadata": {
    "collapsed": false
   },
   "outputs": [],
   "source": [
    "#读取，标注，显示测试图片。\n",
    "tic = time()\n",
    "img = mpimg.imread('test.jpeg')#将test.jpeg改为任意图片（任何size都行，但最小不能小于8x8，太大的话运行会很慢，要resize的话请提前做好）\n",
    "annotation = test(img,models)\n",
    "print '共花费',time() - tic,'秒'\n",
    "plt.imshow(img)\n",
    "label_word[annotation][:5]#自行设置标注数目，越靠前语义越接近"
   ]
  }
 ],
 "metadata": {
  "anaconda-cloud": {},
  "kernelspec": {
   "display_name": "Python [default]",
   "language": "python",
   "name": "python2"
  },
  "language_info": {
   "codemirror_mode": {
    "name": "ipython",
    "version": 2
   },
   "file_extension": ".py",
   "mimetype": "text/x-python",
   "name": "python",
   "nbconvert_exporter": "python",
   "pygments_lexer": "ipython2",
   "version": "2.7.12"
  }
 },
 "nbformat": 4,
 "nbformat_minor": 1
}
