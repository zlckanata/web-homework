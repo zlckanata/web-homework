{
 "cells": [
  {
   "cell_type": "code",
   "execution_count": null,
   "metadata": {
    "collapsed": true
   },
   "outputs": [],
   "source": [
    "#引包\n",
    "import numpy as np\n",
    "import matplotlib.image as mpimg\n",
    "import cPickle as cp"
   ]
  },
  {
   "cell_type": "code",
   "execution_count": null,
   "metadata": {
    "collapsed": false
   },
   "outputs": [],
   "source": [
    "#读取并以列表方式保存测试集数据\n",
    "test_img = []\n",
    "with open('dataset/corel5k_test_list.txt') as f:\n",
    "    for i in f.readlines():\n",
    "        test_img += [mpimg.imread('dataset/%s.jpeg'%i.strip())]\n",
    "cp.dump(test_img,open(\"test.pkl\",\"wb\")) "
   ]
  },
  {
   "cell_type": "code",
   "execution_count": null,
   "metadata": {
    "collapsed": true
   },
   "outputs": [],
   "source": [
    "#读取并以列表方式保存训练集数据\n",
    "train_img = []\n",
    "with open('dataset/corel5k_train_list.txt') as f:\n",
    "    for i in f.readlines():\n",
    "        train_img += [mpimg.imread('dataset/%s.jpeg'%i.strip())]\n",
    "cp.dump(train_img,open(\"train.pkl\",\"wb\")) "
   ]
  }
 ],
 "metadata": {
  "anaconda-cloud": {},
  "kernelspec": {
   "display_name": "Python [default]",
   "language": "python",
   "name": "python2"
  },
  "language_info": {
   "codemirror_mode": {
    "name": "ipython",
    "version": 2
   },
   "file_extension": ".py",
   "mimetype": "text/x-python",
   "name": "python",
   "nbconvert_exporter": "python",
   "pygments_lexer": "ipython2",
   "version": "2.7.12"
  }
 },
 "nbformat": 4,
 "nbformat_minor": 1
}
