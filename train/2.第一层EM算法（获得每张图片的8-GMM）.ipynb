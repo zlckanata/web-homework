{
 "cells": [
  {
   "cell_type": "code",
   "execution_count": null,
   "metadata": {
    "collapsed": true
   },
   "outputs": [],
   "source": [
    "#引包，dct特征用opencv中的方法来提取。\n",
    "import numpy as np\n",
    "import matplotlib.pyplot as plt\n",
    "%matplotlib inline\n",
    "\n",
    "import cv2\n",
    "import time\n",
    "from __future__ import division"
   ]
  },
  {
   "cell_type": "code",
   "execution_count": null,
   "metadata": {
    "collapsed": true
   },
   "outputs": [],
   "source": [
    "#读取训练集图片和标签\n",
    "train_img = np.load('train.pkl')\n",
    "train_label = np.loadtxt('train.csv',delimiter=',')"
   ]
  },
  {
   "cell_type": "code",
   "execution_count": null,
   "metadata": {
    "collapsed": true
   },
   "outputs": [],
   "source": [
    "#定义单张图片dct特征的提取方法\n",
    "def dct(img):\n",
    "    img = np.float64(img)/255.0\n",
    "    out = np.zeros((1,3,8,8),dtype=np.float64)\n",
    "    for i in xrange(img.shape[0] // 2 - 3):\n",
    "        for j in xrange(img.shape[1] // 2 - 3):\n",
    "            r = img[2*i:2*i+8,2*j:2*j+8,0]\n",
    "            g = img[2*i:2*i+8,2*j:2*j+8,1]\n",
    "            b = img[2*i:2*i+8,2*j:2*j+8,2]\n",
    "            r_ = cv2.dct(r).reshape(1,1,8,8)\n",
    "            g_ = cv2.dct(g).reshape(1,1,8,8)\n",
    "            b_ = cv2.dct(b).reshape(1,1,8,8)\n",
    "            temp = np.concatenate((r_,g_,b_),axis = 1)\n",
    "            out = np.concatenate((out,temp),axis=0)\n",
    "    out = out[1:]\n",
    "    return out"
   ]
  },
  {
   "cell_type": "code",
   "execution_count": null,
   "metadata": {
    "collapsed": true
   },
   "outputs": [],
   "source": [
    "#特征降维（从192降至63）\n",
    "def down_size(img):\n",
    "    out = img.reshape(5673,3,-1)[:,:,[0,1,2,3,4,5,8,9,10,11,12,16,17,18,19,24,25,26,32,33,40]].reshape(5673,-1)\n",
    "    return out"
   ]
  },
  {
   "cell_type": "code",
   "execution_count": null,
   "metadata": {
    "collapsed": false
   },
   "outputs": [],
   "source": [
    "#定义单张图片的GMM聚类方法\n",
    "def init_params(initU,X,K):\n",
    "    N,D = X.shape\n",
    "    U = initU\n",
    "    A = np.zeros(K)\n",
    "    E = np.zeros((K,D,D))\n",
    "    distmat = np.tile(np.sum(X * X,axis=1),(K,1)).T \\\n",
    "    + np.tile(np.sum(U * U,axis = 1).T,(N,1)) \\\n",
    "    - 2 * np.dot(X,U.T)\n",
    "    labels = np.argmin(distmat,axis=1)\n",
    "\n",
    "    for k in range(K):\n",
    "        Xk = X[labels==k]\n",
    "        A[k] = float(np.shape(Xk)[0]) / N\n",
    "        E[k] = np.cov(Xk.T)\n",
    "    return U,E,A\n",
    "\n",
    "def GMM(arrs,gnum):\n",
    "    #初始化\n",
    "    N,dim = arrs.shape\n",
    "    randlist = np.random.choice(N, gnum, replace=False)\n",
    "    U = np.copy(arrs[randlist])\n",
    "    U,E,A = init_params(U,arrs,gnum)\n",
    "    E_d = np.eye(dim)*5e-4\n",
    "    r = np.zeros((gnum,N))\n",
    "    lh = 0\n",
    "    olh = 1\n",
    "    \n",
    "    while np.abs(lh - olh)> 1e-100:\n",
    "        \n",
    "        olh = lh\n",
    "        \n",
    "        #（E步）\n",
    "        for i in range(gnum):\n",
    "            det_E = np.linalg.det(E[i]+E_d)\n",
    "            inv_E = np.linalg.inv(E[i]+E_d)\n",
    "            xishu = 1 / (det_E ** 0.5 * (2.0 * np.pi) ** (dim/2))\n",
    "            X_U = arrs - U[i]\n",
    "            zhishu = np.sum(np.dot(X_U,inv_E) * X_U,axis=1) *(-0.5)\n",
    "            r[i] = xishu * np.exp(zhishu)\n",
    "        prob = r\n",
    "        r = prob * A[:,np.newaxis]\n",
    "        r /= np.sum(r,axis=0)\n",
    "                \n",
    "        #（M步）\n",
    "        A = np.sum(r,axis=1)\n",
    "        \n",
    "        U = np.dot(r,arrs)/A[:,np.newaxis]\n",
    "        \n",
    "        for i in range(gnum):\n",
    "            t = arrs - U[i]\n",
    "            E[i] = np.dot(t.T*r[i],t)\n",
    "            \n",
    "        E /= A[:,np.newaxis,np.newaxis]\n",
    "            \n",
    "        A /= N\n",
    "            \n",
    "        lh = np.sum(np.log(np.sum(prob*A[:,np.newaxis],axis=0)))\n",
    "        \n",
    "    return (U,E,A)"
   ]
  },
  {
   "cell_type": "code",
   "execution_count": null,
   "metadata": {
    "collapsed": false,
    "scrolled": true
   },
   "outputs": [],
   "source": [
    "#得到每张图片的GMM模型,模型为GMM-8\n",
    "tic = time.time()\n",
    "K = 8\n",
    "ueas = []\n",
    "count = 0\n",
    "for img in train_img:\n",
    "    ueas.append(GMM(down_size(dct(img)),K))\n",
    "    count += 1\n",
    "    if count%10 == 0:\n",
    "        print count,': ',time.time() - tic"
   ]
  },
  {
   "cell_type": "code",
   "execution_count": null,
   "metadata": {
    "collapsed": true
   },
   "outputs": [],
   "source": [
    "#将ueas进行一些处理，变为Us,Es,As，并保存中间结果，以备之后使用。\n",
    "def ueas_change(ueas):\n",
    "    Us = np.zeros((4500,8,63))\n",
    "    Es = np.zeros((4500,8,63,63))\n",
    "    As = np.zeros((4500,8))\n",
    "    for i in xrange(4500):\n",
    "        Us[i] = ueas[i][0]\n",
    "        Es[i] = ueas[i][1]\n",
    "        As[i] = ueas[i][2]\n",
    "    return Us,Es,As\n",
    "Us,Es,As = ueas_change(ueas)\n",
    "np.savez_compressed('ueas',U=Us,E=Es,A=As)"
   ]
  }
 ],
 "metadata": {
  "anaconda-cloud": {},
  "kernelspec": {
   "display_name": "Python [default]",
   "language": "python",
   "name": "python2"
  },
  "language_info": {
   "codemirror_mode": {
    "name": "ipython",
    "version": 2
   },
   "file_extension": ".py",
   "mimetype": "text/x-python",
   "name": "python",
   "nbconvert_exporter": "python",
   "pygments_lexer": "ipython2",
   "version": "2.7.12"
  }
 },
 "nbformat": 4,
 "nbformat_minor": 1
}
